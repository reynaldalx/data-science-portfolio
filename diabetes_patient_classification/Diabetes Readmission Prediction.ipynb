{
 "cells": [
  {
   "cell_type": "markdown",
   "metadata": {},
   "source": [
    "# Diabetes Patients Readmittance Prediction"
   ]
  },
  {
   "cell_type": "markdown",
   "metadata": {},
   "source": [
    "The purpose of this notebook is to predict the diabetes that will be readmitted within 30 days.\n",
    "The source of the dataset can be found at https://archive.ics.uci.edu/ml/datasets/Diabetes+130-US+hospitals+for+years+1999-2008#\n",
    "\n",
    "The original dataset are separated to '<30', '>30', and 'NO' for the readmitted variable, while most hospitals usually take interest to the ones that readmitted within 30 days."
   ]
  },
  {
   "cell_type": "code",
   "execution_count": 1,
   "metadata": {},
   "outputs": [],
   "source": [
    "import numpy as np\n",
    "import pandas as pd\n",
    "import matplotlib.pyplot as plt\n",
    "from scipy import stats"
   ]
  },
  {
   "cell_type": "code",
   "execution_count": 2,
   "metadata": {},
   "outputs": [],
   "source": [
    "#Loading the dataset\n",
    "diabetes = pd.read_csv('diabetic_data.csv')"
   ]
  },
  {
   "cell_type": "code",
   "execution_count": 3,
   "metadata": {},
   "outputs": [
    {
     "data": {
      "text/plain": [
       "(101766, 50)"
      ]
     },
     "execution_count": 3,
     "metadata": {},
     "output_type": "execute_result"
    }
   ],
   "source": [
    "#The data has around 100 thousands of row and 50 columns\n",
    "diabetes.shape"
   ]
  },
  {
   "cell_type": "code",
   "execution_count": 4,
   "metadata": {},
   "outputs": [
    {
     "name": "stdout",
     "output_type": "stream",
     "text": [
      "['NO' '>30' '<30']\n",
      "NO     54864\n",
      ">30    35545\n",
      "<30    11357\n",
      "Name: readmitted, dtype: int64\n"
     ]
    }
   ],
   "source": [
    "#Checking the response variable\n",
    "print(diabetes.readmitted.unique())\n",
    "print(diabetes.readmitted.value_counts())"
   ]
  },
  {
   "cell_type": "code",
   "execution_count": 5,
   "metadata": {},
   "outputs": [],
   "source": [
    "# The goal of prediction is to as correctly as possible predict the patient that will be readmitted within 30 days\n",
    "# after release. The reason is that wrongly predict the particular patients will impact on the business and\n",
    "# preparedness of the hospital in handling them.\n",
    "diabetes.loc[diabetes.readmitted == '>30', 'readmitted'] = '>30 OR NO'\n",
    "diabetes.loc[diabetes.readmitted == 'NO', 'readmitted'] = '>30 OR NO'\n",
    "# diabetes.loc[diabetes.readmitted == '<30', 'readmitted'] = 1"
   ]
  },
  {
   "cell_type": "code",
   "execution_count": 6,
   "metadata": {},
   "outputs": [],
   "source": [
    "diabetes['readmitted'] = diabetes['readmitted'].replace('>30 OR NO', 0)\n",
    "diabetes['readmitted'] = diabetes['readmitted'].replace('<30', 1)"
   ]
  },
  {
   "cell_type": "code",
   "execution_count": 7,
   "metadata": {},
   "outputs": [
    {
     "data": {
      "text/plain": [
       "0    90409\n",
       "1    11357\n",
       "Name: readmitted, dtype: int64"
      ]
     },
     "execution_count": 7,
     "metadata": {},
     "output_type": "execute_result"
    }
   ],
   "source": [
    "diabetes.readmitted.value_counts()\n",
    "# As we see, that the case of this study is categorized as imbalanced class case."
   ]
  },
  {
   "cell_type": "markdown",
   "metadata": {},
   "source": [
    "## Data preprocessing"
   ]
  },
  {
   "cell_type": "markdown",
   "metadata": {},
   "source": [
    "### Duplication on patient_nbr"
   ]
  },
  {
   "cell_type": "code",
   "execution_count": 8,
   "metadata": {},
   "outputs": [],
   "source": [
    "#Caused by multiple admission of patient, in this case we decided to take only the first admission, to avoid bias on the data.\n",
    "diabetes = diabetes.sort_values(['patient_nbr', 'encounter_id'])\n",
    "diabetes = diabetes[~diabetes.patient_nbr.duplicated()]"
   ]
  },
  {
   "cell_type": "markdown",
   "metadata": {},
   "source": [
    "### Removing useless columns"
   ]
  },
  {
   "cell_type": "code",
   "execution_count": 9,
   "metadata": {},
   "outputs": [
    {
     "data": {
      "text/html": [
       "<div>\n",
       "<style scoped>\n",
       "    .dataframe tbody tr th:only-of-type {\n",
       "        vertical-align: middle;\n",
       "    }\n",
       "\n",
       "    .dataframe tbody tr th {\n",
       "        vertical-align: top;\n",
       "    }\n",
       "\n",
       "    .dataframe thead th {\n",
       "        text-align: right;\n",
       "    }\n",
       "</style>\n",
       "<table border=\"1\" class=\"dataframe\">\n",
       "  <thead>\n",
       "    <tr style=\"text-align: right;\">\n",
       "      <th></th>\n",
       "      <th>encounter_id</th>\n",
       "      <th>patient_nbr</th>\n",
       "      <th>race</th>\n",
       "      <th>gender</th>\n",
       "      <th>age</th>\n",
       "      <th>weight</th>\n",
       "      <th>admission_type_id</th>\n",
       "      <th>discharge_disposition_id</th>\n",
       "      <th>admission_source_id</th>\n",
       "      <th>time_in_hospital</th>\n",
       "      <th>...</th>\n",
       "      <th>citoglipton</th>\n",
       "      <th>insulin</th>\n",
       "      <th>glyburide-metformin</th>\n",
       "      <th>glipizide-metformin</th>\n",
       "      <th>glimepiride-pioglitazone</th>\n",
       "      <th>metformin-rosiglitazone</th>\n",
       "      <th>metformin-pioglitazone</th>\n",
       "      <th>change</th>\n",
       "      <th>diabetesMed</th>\n",
       "      <th>readmitted</th>\n",
       "    </tr>\n",
       "  </thead>\n",
       "  <tbody>\n",
       "    <tr>\n",
       "      <th>4267</th>\n",
       "      <td>24437208</td>\n",
       "      <td>135</td>\n",
       "      <td>Caucasian</td>\n",
       "      <td>Female</td>\n",
       "      <td>[50-60)</td>\n",
       "      <td>?</td>\n",
       "      <td>2</td>\n",
       "      <td>1</td>\n",
       "      <td>1</td>\n",
       "      <td>8</td>\n",
       "      <td>...</td>\n",
       "      <td>No</td>\n",
       "      <td>Steady</td>\n",
       "      <td>No</td>\n",
       "      <td>No</td>\n",
       "      <td>No</td>\n",
       "      <td>No</td>\n",
       "      <td>No</td>\n",
       "      <td>Ch</td>\n",
       "      <td>Yes</td>\n",
       "      <td>1</td>\n",
       "    </tr>\n",
       "    <tr>\n",
       "      <th>5827</th>\n",
       "      <td>29758806</td>\n",
       "      <td>378</td>\n",
       "      <td>Caucasian</td>\n",
       "      <td>Female</td>\n",
       "      <td>[50-60)</td>\n",
       "      <td>?</td>\n",
       "      <td>3</td>\n",
       "      <td>1</td>\n",
       "      <td>1</td>\n",
       "      <td>2</td>\n",
       "      <td>...</td>\n",
       "      <td>No</td>\n",
       "      <td>No</td>\n",
       "      <td>No</td>\n",
       "      <td>No</td>\n",
       "      <td>No</td>\n",
       "      <td>No</td>\n",
       "      <td>No</td>\n",
       "      <td>No</td>\n",
       "      <td>No</td>\n",
       "      <td>0</td>\n",
       "    </tr>\n",
       "    <tr>\n",
       "      <th>67608</th>\n",
       "      <td>189899286</td>\n",
       "      <td>729</td>\n",
       "      <td>Caucasian</td>\n",
       "      <td>Female</td>\n",
       "      <td>[80-90)</td>\n",
       "      <td>?</td>\n",
       "      <td>1</td>\n",
       "      <td>3</td>\n",
       "      <td>7</td>\n",
       "      <td>4</td>\n",
       "      <td>...</td>\n",
       "      <td>No</td>\n",
       "      <td>No</td>\n",
       "      <td>No</td>\n",
       "      <td>No</td>\n",
       "      <td>No</td>\n",
       "      <td>No</td>\n",
       "      <td>No</td>\n",
       "      <td>No</td>\n",
       "      <td>Yes</td>\n",
       "      <td>0</td>\n",
       "    </tr>\n",
       "    <tr>\n",
       "      <th>17494</th>\n",
       "      <td>64331490</td>\n",
       "      <td>774</td>\n",
       "      <td>Caucasian</td>\n",
       "      <td>Female</td>\n",
       "      <td>[80-90)</td>\n",
       "      <td>?</td>\n",
       "      <td>1</td>\n",
       "      <td>1</td>\n",
       "      <td>7</td>\n",
       "      <td>3</td>\n",
       "      <td>...</td>\n",
       "      <td>No</td>\n",
       "      <td>No</td>\n",
       "      <td>No</td>\n",
       "      <td>No</td>\n",
       "      <td>No</td>\n",
       "      <td>No</td>\n",
       "      <td>No</td>\n",
       "      <td>Ch</td>\n",
       "      <td>Yes</td>\n",
       "      <td>0</td>\n",
       "    </tr>\n",
       "    <tr>\n",
       "      <th>2270</th>\n",
       "      <td>14824206</td>\n",
       "      <td>927</td>\n",
       "      <td>AfricanAmerican</td>\n",
       "      <td>Female</td>\n",
       "      <td>[30-40)</td>\n",
       "      <td>?</td>\n",
       "      <td>1</td>\n",
       "      <td>1</td>\n",
       "      <td>7</td>\n",
       "      <td>5</td>\n",
       "      <td>...</td>\n",
       "      <td>No</td>\n",
       "      <td>No</td>\n",
       "      <td>No</td>\n",
       "      <td>No</td>\n",
       "      <td>No</td>\n",
       "      <td>No</td>\n",
       "      <td>No</td>\n",
       "      <td>No</td>\n",
       "      <td>Yes</td>\n",
       "      <td>0</td>\n",
       "    </tr>\n",
       "  </tbody>\n",
       "</table>\n",
       "<p>5 rows × 50 columns</p>\n",
       "</div>"
      ],
      "text/plain": [
       "       encounter_id  patient_nbr             race  gender      age weight  \\\n",
       "4267       24437208          135        Caucasian  Female  [50-60)      ?   \n",
       "5827       29758806          378        Caucasian  Female  [50-60)      ?   \n",
       "67608     189899286          729        Caucasian  Female  [80-90)      ?   \n",
       "17494      64331490          774        Caucasian  Female  [80-90)      ?   \n",
       "2270       14824206          927  AfricanAmerican  Female  [30-40)      ?   \n",
       "\n",
       "       admission_type_id  discharge_disposition_id  admission_source_id  \\\n",
       "4267                   2                         1                    1   \n",
       "5827                   3                         1                    1   \n",
       "67608                  1                         3                    7   \n",
       "17494                  1                         1                    7   \n",
       "2270                   1                         1                    7   \n",
       "\n",
       "       time_in_hospital  ... citoglipton insulin  glyburide-metformin  \\\n",
       "4267                  8  ...          No  Steady                   No   \n",
       "5827                  2  ...          No      No                   No   \n",
       "67608                 4  ...          No      No                   No   \n",
       "17494                 3  ...          No      No                   No   \n",
       "2270                  5  ...          No      No                   No   \n",
       "\n",
       "       glipizide-metformin  glimepiride-pioglitazone  metformin-rosiglitazone  \\\n",
       "4267                    No                        No                       No   \n",
       "5827                    No                        No                       No   \n",
       "67608                   No                        No                       No   \n",
       "17494                   No                        No                       No   \n",
       "2270                    No                        No                       No   \n",
       "\n",
       "       metformin-pioglitazone  change diabetesMed readmitted  \n",
       "4267                       No      Ch         Yes          1  \n",
       "5827                       No      No          No          0  \n",
       "67608                      No      No         Yes          0  \n",
       "17494                      No      Ch         Yes          0  \n",
       "2270                       No      No         Yes          0  \n",
       "\n",
       "[5 rows x 50 columns]"
      ]
     },
     "execution_count": 9,
     "metadata": {},
     "output_type": "execute_result"
    }
   ],
   "source": [
    "diabetes.head(5)\n",
    "#note that missing value is encoded by '?' in the dataset"
   ]
  },
  {
   "cell_type": "code",
   "execution_count": 10,
   "metadata": {},
   "outputs": [],
   "source": [
    "# replacing '?' with NaN, default missing value encoding to make preprocessing easier\n",
    "diabetes = diabetes.replace('?', np.nan)"
   ]
  },
  {
   "cell_type": "code",
   "execution_count": 11,
   "metadata": {},
   "outputs": [
    {
     "data": {
      "text/plain": [
       "encounter_id                 0.000000\n",
       "patient_nbr                  0.000000\n",
       "race                         2.723790\n",
       "gender                       0.000000\n",
       "age                          0.000000\n",
       "weight                      96.010794\n",
       "admission_type_id            0.000000\n",
       "discharge_disposition_id     0.000000\n",
       "admission_source_id          0.000000\n",
       "time_in_hospital             0.000000\n",
       "payer_code                  43.405856\n",
       "medical_specialty           48.207444\n",
       "num_lab_procedures           0.000000\n",
       "num_procedures               0.000000\n",
       "num_medications              0.000000\n",
       "number_outpatient            0.000000\n",
       "number_emergency             0.000000\n",
       "number_inpatient             0.000000\n",
       "diag_1                       0.015381\n",
       "diag_2                       0.411085\n",
       "diag_3                       1.712856\n",
       "number_diagnoses             0.000000\n",
       "max_glu_serum                0.000000\n",
       "A1Cresult                    0.000000\n",
       "metformin                    0.000000\n",
       "repaglinide                  0.000000\n",
       "nateglinide                  0.000000\n",
       "chlorpropamide               0.000000\n",
       "glimepiride                  0.000000\n",
       "acetohexamide                0.000000\n",
       "glipizide                    0.000000\n",
       "glyburide                    0.000000\n",
       "tolbutamide                  0.000000\n",
       "pioglitazone                 0.000000\n",
       "rosiglitazone                0.000000\n",
       "acarbose                     0.000000\n",
       "miglitol                     0.000000\n",
       "troglitazone                 0.000000\n",
       "tolazamide                   0.000000\n",
       "examide                      0.000000\n",
       "citoglipton                  0.000000\n",
       "insulin                      0.000000\n",
       "glyburide-metformin          0.000000\n",
       "glipizide-metformin          0.000000\n",
       "glimepiride-pioglitazone     0.000000\n",
       "metformin-rosiglitazone      0.000000\n",
       "metformin-pioglitazone       0.000000\n",
       "change                       0.000000\n",
       "diabetesMed                  0.000000\n",
       "readmitted                   0.000000\n",
       "dtype: float64"
      ]
     },
     "execution_count": 11,
     "metadata": {},
     "output_type": "execute_result"
    }
   ],
   "source": [
    "# checking the missing percentage\n",
    "diabetes.isna().sum() / len(diabetes) * 100\n",
    "# from this, we can notice that weight are useless, as it contains 96% missing values\n",
    "# encounter_id, patient_nbr, payer_code will be removed as well as they do not have any value for the prediction"
   ]
  },
  {
   "cell_type": "code",
   "execution_count": 12,
   "metadata": {},
   "outputs": [],
   "source": [
    "diabetes.drop(['weight', 'encounter_id', 'patient_nbr', 'payer_code', 'medical_specialty'], axis=1, inplace=True)"
   ]
  },
  {
   "cell_type": "code",
   "execution_count": 13,
   "metadata": {},
   "outputs": [],
   "source": [
    "diabetes.nunique()\n",
    "## removing columns with single value => examide, citoglipton\n",
    "diabetes.drop(['examide', 'citoglipton'], axis=1, inplace=True)"
   ]
  },
  {
   "cell_type": "markdown",
   "metadata": {},
   "source": [
    "### Removing rows with missing some missing values"
   ]
  },
  {
   "cell_type": "code",
   "execution_count": 14,
   "metadata": {},
   "outputs": [],
   "source": [
    "# column race\n",
    "diabetes = diabetes[~diabetes.race.isna()]\n",
    "# rows with diag_1, diag_2, diag_3 missing at the same time\n",
    "diabetes = diabetes[~(diabetes.diag_1.isna() & diabetes.diag_2.isna() & diabetes.diag_3.isna())]"
   ]
  },
  {
   "cell_type": "code",
   "execution_count": 15,
   "metadata": {},
   "outputs": [],
   "source": [
    "# removing records with gender = 'Unknown/Invalid'\n",
    "diabetes = diabetes[diabetes.gender != 'Unknown/Invalid']"
   ]
  },
  {
   "cell_type": "markdown",
   "metadata": {},
   "source": [
    "### Simplify features"
   ]
  },
  {
   "cell_type": "code",
   "execution_count": 16,
   "metadata": {},
   "outputs": [],
   "source": [
    "# To identify changes of medication (23 types of medication), we want to count every changes that occured\n",
    "# for each type of medication\n",
    "keys = ['metformin', 'repaglinide', 'nateglinide', 'chlorpropamide', 'glimepiride', 'glipizide', 'glyburide', 'pioglitazone', 'rosiglitazone', 'acarbose', 'miglitol', 'insulin', 'glyburide-metformin', 'tolazamide', 'metformin-pioglitazone','metformin-rosiglitazone', 'glimepiride-pioglitazone', 'glipizide-metformin', 'troglitazone', 'tolbutamide', 'acetohexamide']\n",
    "\n",
    "for col in keys:\n",
    "    colname = str(col) + 'temp'\n",
    "    diabetes[colname] = diabetes[col].apply(lambda x: 0 if (x == 'No' or x == 'Steady') else 1)\n",
    "    \n",
    "diabetes['numchange'] = 0\n",
    "for col in keys:\n",
    "    colname = str(col) + 'temp'\n",
    "    diabetes['numchange'] = diabetes['numchange'] + diabetes[colname]\n",
    "    del diabetes[colname]"
   ]
  },
  {
   "cell_type": "code",
   "execution_count": 17,
   "metadata": {},
   "outputs": [],
   "source": [
    "# To identify changes of medication (23 types of medication), we want to count every changes that occured\n",
    "# for each type of medication\n",
    "keys = ['metformin', 'repaglinide', 'nateglinide', 'chlorpropamide', 'glimepiride', 'glipizide', 'glyburide', 'pioglitazone', 'rosiglitazone', 'acarbose', 'miglitol', 'insulin', 'glyburide-metformin', 'tolazamide', 'metformin-pioglitazone','metformin-rosiglitazone', 'glimepiride-pioglitazone', 'glipizide-metformin', 'troglitazone', 'tolbutamide', 'acetohexamide']\n",
    "\n",
    "for col in keys:\n",
    "    colname = str(col) + 'temp'\n",
    "    diabetes[colname] = diabetes[col].apply(lambda x: 0 if (x == 'No') else 1)\n",
    "    \n",
    "diabetes['nummed'] = 0\n",
    "for col in keys:\n",
    "    colname = str(col) + 'temp'\n",
    "    diabetes['nummed'] = diabetes['nummed'] + diabetes[colname]\n",
    "    del diabetes[colname]"
   ]
  },
  {
   "cell_type": "code",
   "execution_count": 18,
   "metadata": {},
   "outputs": [],
   "source": [
    "# duplicate the diagnosis column\n",
    "diabetes['level1_diag1'] = diabetes['diag_1']\n",
    "# replace the unknown values with -1\n",
    "diabetes['diag_1'] = diabetes['diag_1'].fillna('?')\n",
    "diabetes['level1_diag1'] = diabetes['level1_diag1'].fillna(-1)\n",
    "# recode the disease codes starting with V or E are in “other” category to 0\n",
    "diabetes.loc[diabetes['diag_1'].str.contains('V'), ['level1_diag1']] = 0\n",
    "diabetes.loc[diabetes['diag_1'].str.contains('E'), ['level1_diag1']] = 0"
   ]
  },
  {
   "cell_type": "code",
   "execution_count": 19,
   "metadata": {},
   "outputs": [],
   "source": [
    "diabetes['level1_diag1'] = diabetes.level1_diag1.astype(float)"
   ]
  },
  {
   "cell_type": "code",
   "execution_count": 20,
   "metadata": {},
   "outputs": [],
   "source": [
    "# iterate and recode disease codes between certain ranges to certain categories\n",
    "for index, row in diabetes.iterrows():\n",
    "    if (row['level1_diag1'] >= 390 and row['level1_diag1'] < 460) or (np.floor(row['level1_diag1']) == 785):\n",
    "        diabetes.loc[index, 'level1_diag1'] = 1\n",
    "    elif (row['level1_diag1'] >= 460 and row['level1_diag1'] < 520) or (np.floor(row['level1_diag1']) == 786):\n",
    "        diabetes.loc[index, 'level1_diag1'] = 2\n",
    "    elif (row['level1_diag1'] >= 520 and row['level1_diag1'] < 580) or (np.floor(row['level1_diag1']) == 787):\n",
    "        diabetes.loc[index, 'level1_diag1'] = 3\n",
    "    elif (np.floor(row['level1_diag1']) == 250):\n",
    "        diabetes.loc[index, 'level1_diag1'] = 4\n",
    "    elif (row['level1_diag1'] >= 800 and row['level1_diag1'] < 1000):\n",
    "        diabetes.loc[index, 'level1_diag1'] = 5\n",
    "    elif (row['level1_diag1'] >= 710 and row['level1_diag1'] < 740):\n",
    "        diabetes.loc[index, 'level1_diag1'] = 6\n",
    "    elif (row['level1_diag1'] >= 580 and row['level1_diag1'] < 630) or (np.floor(row['level1_diag1']) == 788):\n",
    "        diabetes.loc[index, 'level1_diag1'] = 7\n",
    "    elif (row['level1_diag1'] >= 140 and row['level1_diag1'] < 240):\n",
    "        diabetes.loc[index, 'level1_diag1'] = 8\n",
    "    else:\n",
    "        diabetes.loc[index, 'level1_diag1'] = 0\n",
    "# convert this variable to float type to enable computations later\n",
    "# diabetes['level1_diag1'] = diabetes['level1_diag1'].astype(float)"
   ]
  },
  {
   "cell_type": "code",
   "execution_count": 21,
   "metadata": {},
   "outputs": [],
   "source": [
    "# changing it to string to negate the illusion of ordinality of the diagnosis\n",
    "diabetes['level1_diag1'] = diabetes.level1_diag1.astype(str)"
   ]
  },
  {
   "cell_type": "code",
   "execution_count": 22,
   "metadata": {},
   "outputs": [],
   "source": [
    "diabetes['level1_diag1'] = diabetes.level1_diag1.str.replace('.0', '')"
   ]
  },
  {
   "cell_type": "code",
   "execution_count": 23,
   "metadata": {},
   "outputs": [
    {
     "data": {
      "text/html": [
       "<div>\n",
       "<style scoped>\n",
       "    .dataframe tbody tr th:only-of-type {\n",
       "        vertical-align: middle;\n",
       "    }\n",
       "\n",
       "    .dataframe tbody tr th {\n",
       "        vertical-align: top;\n",
       "    }\n",
       "\n",
       "    .dataframe thead th {\n",
       "        text-align: right;\n",
       "    }\n",
       "</style>\n",
       "<table border=\"1\" class=\"dataframe\">\n",
       "  <thead>\n",
       "    <tr style=\"text-align: right;\">\n",
       "      <th></th>\n",
       "      <th>4267</th>\n",
       "      <th>5827</th>\n",
       "      <th>67608</th>\n",
       "      <th>17494</th>\n",
       "      <th>2270</th>\n",
       "      <th>1164</th>\n",
       "      <th>18234</th>\n",
       "      <th>15848</th>\n",
       "      <th>61382</th>\n",
       "      <th>2279</th>\n",
       "      <th>7866</th>\n",
       "      <th>25911</th>\n",
       "      <th>1083</th>\n",
       "      <th>2001</th>\n",
       "      <th>11049</th>\n",
       "    </tr>\n",
       "  </thead>\n",
       "  <tbody>\n",
       "    <tr>\n",
       "      <th>diag_1</th>\n",
       "      <td>401</td>\n",
       "      <td>722</td>\n",
       "      <td>820</td>\n",
       "      <td>274</td>\n",
       "      <td>590</td>\n",
       "      <td>282</td>\n",
       "      <td>491</td>\n",
       "      <td>996</td>\n",
       "      <td>V57</td>\n",
       "      <td>682</td>\n",
       "      <td>414</td>\n",
       "      <td>722</td>\n",
       "      <td>276</td>\n",
       "      <td>434</td>\n",
       "      <td>38</td>\n",
       "    </tr>\n",
       "    <tr>\n",
       "      <th>level1_diag1</th>\n",
       "      <td>1</td>\n",
       "      <td>6</td>\n",
       "      <td>5</td>\n",
       "      <td>0</td>\n",
       "      <td>7</td>\n",
       "      <td>0</td>\n",
       "      <td>2</td>\n",
       "      <td>5</td>\n",
       "      <td>0</td>\n",
       "      <td>0</td>\n",
       "      <td>1</td>\n",
       "      <td>6</td>\n",
       "      <td>0</td>\n",
       "      <td>1</td>\n",
       "      <td>0</td>\n",
       "    </tr>\n",
       "  </tbody>\n",
       "</table>\n",
       "</div>"
      ],
      "text/plain": [
       "             4267  5827  67608 17494 2270  1164  18234 15848 61382 2279   \\\n",
       "diag_1         401   722   820   274   590   282   491   996   V57   682   \n",
       "level1_diag1     1     6     5     0     7     0     2     5     0     0   \n",
       "\n",
       "             7866  25911 1083  2001  11049  \n",
       "diag_1         414   722   276   434    38  \n",
       "level1_diag1     1     6     0     1     0  "
      ]
     },
     "execution_count": 23,
     "metadata": {},
     "output_type": "execute_result"
    }
   ],
   "source": [
    "diabetes[['diag_1','level1_diag1']].head(15).T"
   ]
  },
  {
   "cell_type": "markdown",
   "metadata": {},
   "source": [
    "### Removing records with particular discharge_disposition_id"
   ]
  },
  {
   "cell_type": "code",
   "execution_count": 24,
   "metadata": {},
   "outputs": [],
   "source": [
    "#To avoid bias, removing records with discharge_disposition_id that indicated that the patient was sent to hospice or dead,\n",
    "#using IDs_mapping.csv as the reference => ID: {11,13,14,19,20,21}\n",
    "diabetes = diabetes[~(diabetes.discharge_disposition_id.isin([11, 13, 14, 19, 20, 21]))]"
   ]
  },
  {
   "cell_type": "markdown",
   "metadata": {},
   "source": [
    "### Changing/Encoding values of columns"
   ]
  },
  {
   "cell_type": "code",
   "execution_count": 25,
   "metadata": {},
   "outputs": [
    {
     "data": {
      "text/plain": [
       "array(['[50-60)', '[80-90)', '[30-40)', '[60-70)', '[40-50)', '[70-80)',\n",
       "       '[10-20)', '[90-100)', '[20-30)', '[0-10)'], dtype=object)"
      ]
     },
     "execution_count": 25,
     "metadata": {},
     "output_type": "execute_result"
    }
   ],
   "source": [
    "diabetes.age.unique()\n",
    "# As we can see here that the age is coded as a categorical variable,\n",
    "# we want to see the effect of the increasing age to the prediction,\n",
    "# hence we recode the age as a numeric variable using the mean of each age group."
   ]
  },
  {
   "cell_type": "code",
   "execution_count": 26,
   "metadata": {},
   "outputs": [],
   "source": [
    "diabetes.loc[diabetes.age == '[0-10)', 'age'] = 5\n",
    "diabetes.loc[diabetes.age == '[10-20)', 'age'] = 15\n",
    "diabetes.loc[diabetes.age == '[20-30)', 'age'] = 25\n",
    "diabetes.loc[diabetes.age == '[30-40)', 'age'] = 35\n",
    "diabetes.loc[diabetes.age == '[40-50)', 'age'] = 45\n",
    "diabetes.loc[diabetes.age == '[50-60)', 'age'] = 55\n",
    "diabetes.loc[diabetes.age == '[60-70)', 'age'] = 65\n",
    "diabetes.loc[diabetes.age == '[70-80)', 'age'] = 75\n",
    "diabetes.loc[diabetes.age == '[80-90)', 'age'] = 85\n",
    "diabetes.loc[diabetes.age == '[90-100)', 'age'] = 95"
   ]
  },
  {
   "cell_type": "code",
   "execution_count": 27,
   "metadata": {},
   "outputs": [],
   "source": [
    "#Looking at IDs_mapping.csv, recode Emergency, Urgent Care and Trauma to the same Category\n",
    "#And recode NULL and Not Mapped to Not Available\n",
    "diabetes['admission_type_id'] = diabetes['admission_type_id'].replace(2,1)\n",
    "diabetes['admission_type_id'] = diabetes['admission_type_id'].replace(7,1)\n",
    "diabetes['admission_type_id'] = diabetes['admission_type_id'].replace(6,5)\n",
    "diabetes['admission_type_id'] = diabetes['admission_type_id'].replace(8,5)"
   ]
  },
  {
   "cell_type": "code",
   "execution_count": 28,
   "metadata": {},
   "outputs": [],
   "source": [
    "#Looking at IDs_mapping.csv, recategorize discharge_disposition_id to the similar categories\n",
    "#including null values\n",
    "diabetes['discharge_disposition_id'] = diabetes['discharge_disposition_id'].replace(6,1)\n",
    "diabetes['discharge_disposition_id'] = diabetes['discharge_disposition_id'].replace(3,2)\n",
    "diabetes['discharge_disposition_id'] = diabetes['discharge_disposition_id'].replace(4,2)\n",
    "diabetes['discharge_disposition_id'] = diabetes['discharge_disposition_id'].replace(5,2)\n",
    "diabetes['discharge_disposition_id'] = diabetes['discharge_disposition_id'].replace(10,2)\n",
    "diabetes['discharge_disposition_id'] = diabetes['discharge_disposition_id'].replace(16,2)\n",
    "diabetes['discharge_disposition_id'] = diabetes['discharge_disposition_id'].replace(22,2)\n",
    "diabetes['discharge_disposition_id'] = diabetes['discharge_disposition_id'].replace(23,2)\n",
    "diabetes['discharge_disposition_id'] = diabetes['discharge_disposition_id'].replace(24,2)\n",
    "diabetes['discharge_disposition_id'] = diabetes['discharge_disposition_id'].replace(27,2)\n",
    "diabetes['discharge_disposition_id'] = diabetes['discharge_disposition_id'].replace(28,2)\n",
    "diabetes['discharge_disposition_id'] = diabetes['discharge_disposition_id'].replace(29,2)\n",
    "diabetes['discharge_disposition_id'] = diabetes['discharge_disposition_id'].replace(30,2)\n",
    "diabetes['discharge_disposition_id'] = diabetes['discharge_disposition_id'].replace(12,9)\n",
    "diabetes['discharge_disposition_id'] = diabetes['discharge_disposition_id'].replace(15,9)\n",
    "diabetes['discharge_disposition_id'] = diabetes['discharge_disposition_id'].replace(17,9)\n",
    "diabetes['discharge_disposition_id'] = diabetes['discharge_disposition_id'].replace(25,18)\n",
    "diabetes['discharge_disposition_id'] = diabetes['discharge_disposition_id'].replace(26,18)"
   ]
  },
  {
   "cell_type": "code",
   "execution_count": 29,
   "metadata": {},
   "outputs": [],
   "source": [
    "#Looking at IDs_mapping.csv, recategorize admission_source_id to the similar categories\n",
    "#including null values\n",
    "diabetes['admission_source_id'] = diabetes['admission_source_id'].replace(2,1)\n",
    "diabetes['admission_source_id'] = diabetes['admission_source_id'].replace(3,1)\n",
    "diabetes['admission_source_id'] = diabetes['admission_source_id'].replace(8,1)\n",
    "diabetes['admission_source_id'] = diabetes['admission_source_id'].replace(5,4)\n",
    "diabetes['admission_source_id'] = diabetes['admission_source_id'].replace(6,4)\n",
    "diabetes['admission_source_id'] = diabetes['admission_source_id'].replace(10,4)\n",
    "diabetes['admission_source_id'] = diabetes['admission_source_id'].replace(18,4)\n",
    "diabetes['admission_source_id'] = diabetes['admission_source_id'].replace(24,4)\n",
    "diabetes['admission_source_id'] = diabetes['admission_source_id'].replace(25,4)\n",
    "diabetes['admission_source_id'] = diabetes['admission_source_id'].replace(26,4)\n",
    "diabetes['admission_source_id'] = diabetes['admission_source_id'].replace(11,7)\n",
    "diabetes['admission_source_id'] = diabetes['admission_source_id'].replace(12,7)\n",
    "diabetes['admission_source_id'] = diabetes['admission_source_id'].replace(13,7)\n",
    "diabetes['admission_source_id'] = diabetes['admission_source_id'].replace(14,7)\n",
    "diabetes['admission_source_id'] = diabetes['admission_source_id'].replace(19,7)\n",
    "diabetes['admission_source_id'] = diabetes['admission_source_id'].replace(22,7)\n",
    "diabetes['admission_source_id'] = diabetes['admission_source_id'].replace(23,7)\n",
    "diabetes['admission_source_id'] = diabetes['admission_source_id'].replace(17,15)\n",
    "diabetes['admission_source_id'] = diabetes['admission_source_id'].replace(20,15)\n",
    "diabetes['admission_source_id'] = diabetes['admission_source_id'].replace(21,15)"
   ]
  },
  {
   "cell_type": "code",
   "execution_count": 30,
   "metadata": {},
   "outputs": [],
   "source": [
    "#Previous study stated that change on medication and diabetes medication have an impact on the readmission,\n",
    "#hence both are recoded to ordinal data\n",
    "diabetes['change'] = diabetes['change'].replace('Ch', 1)\n",
    "diabetes['change'] = diabetes['change'].replace('No', 0)\n",
    "diabetes['diabetesMed'] = diabetes['diabetesMed'].replace('Yes', 1)\n",
    "diabetes['diabetesMed'] = diabetes['diabetesMed'].replace('No', 0)\n",
    "\n",
    "#reducing levels on diabetes medication to given treatment or not\n",
    "for col in keys:\n",
    "    diabetes[col] = diabetes[col].replace('No', 0)\n",
    "    diabetes[col] = diabetes[col].replace('Steady', 1)\n",
    "    diabetes[col] = diabetes[col].replace('Up', 1)\n",
    "    diabetes[col] = diabetes[col].replace('Down', 1)"
   ]
  },
  {
   "cell_type": "code",
   "execution_count": 31,
   "metadata": {},
   "outputs": [],
   "source": [
    "#Recode Hb1Ac, max_glu_serum\n",
    "#Hb1Ac >7 and >8 => 1, Hb1Ac Norm => 0, Hb1Ac None => -1\n",
    "diabetes['A1Cresult'] = diabetes['A1Cresult'].replace('>7', 1)\n",
    "diabetes['A1Cresult'] = diabetes['A1Cresult'].replace('>8', 1)\n",
    "diabetes['A1Cresult'] = diabetes['A1Cresult'].replace('Norm', 0)\n",
    "diabetes['A1Cresult'] = diabetes['A1Cresult'].replace('None', -1)\n",
    "\n",
    "#max_glu_serum >200 and >300 => 1, max_glu_serum Norm => 0, max_glu_serum None => -1\n",
    "diabetes['max_glu_serum'] = diabetes['max_glu_serum'].replace('>200', 1)\n",
    "diabetes['max_glu_serum'] = diabetes['max_glu_serum'].replace('>300', 1)\n",
    "diabetes['max_glu_serum'] = diabetes['max_glu_serum'].replace('Norm', 0)\n",
    "diabetes['max_glu_serum'] = diabetes['max_glu_serum'].replace('None', -1)"
   ]
  },
  {
   "cell_type": "code",
   "execution_count": 32,
   "metadata": {},
   "outputs": [],
   "source": [
    "diabetes = diabetes.join(pd.get_dummies(diabetes[['race', 'gender', 'level1_diag1']]))\n",
    "diabetes.drop(['race', 'gender', 'diag_1', 'diag_2', 'diag_3', 'level1_diag1'], axis=1, inplace=True)"
   ]
  },
  {
   "cell_type": "code",
   "execution_count": 33,
   "metadata": {},
   "outputs": [],
   "source": [
    "diabetes['admission_type_id'] = diabetes.admission_type_id.astype(str)\n",
    "diabetes['admission_source_id'] = diabetes.admission_source_id.astype(str)\n",
    "diabetes['discharge_disposition_id'] = diabetes.discharge_disposition_id.astype(str)\n",
    "diabetes = diabetes.join(pd.get_dummies(diabetes[['admission_type_id', 'admission_source_id', 'discharge_disposition_id']]))\n",
    "diabetes.drop(['admission_type_id', 'admission_source_id', 'discharge_disposition_id'], axis=1, inplace=True)"
   ]
  },
  {
   "cell_type": "code",
   "execution_count": 34,
   "metadata": {},
   "outputs": [],
   "source": [
    "diabetes['A1Cresult'] = diabetes.A1Cresult.astype(str)\n",
    "diabetes['max_glu_serum'] = diabetes.max_glu_serum.astype(str)\n",
    "diabetes = diabetes.join(pd.get_dummies(diabetes[['A1Cresult', 'max_glu_serum']]))\n",
    "diabetes.drop(['A1Cresult', 'max_glu_serum'], axis=1, inplace=True)"
   ]
  },
  {
   "cell_type": "code",
   "execution_count": 35,
   "metadata": {},
   "outputs": [],
   "source": [
    "diabetes['num_use'] = diabetes.number_emergency + diabetes.number_inpatient + diabetes.number_outpatient\n",
    "diabetes.drop(['number_emergency', 'number_inpatient', 'number_outpatient'], axis=1, inplace=True)"
   ]
  },
  {
   "cell_type": "code",
   "execution_count": 36,
   "metadata": {},
   "outputs": [],
   "source": [
    "diabetes.drop(['A1Cresult_-1', 'max_glu_serum_-1'], axis=1, inplace=True)"
   ]
  },
  {
   "cell_type": "code",
   "execution_count": 37,
   "metadata": {},
   "outputs": [
    {
     "data": {
      "text/plain": [
       "num_procedures               num_procedures                 1.000000\n",
       "num_medications              num_medications                1.000000\n",
       "number_diagnoses             number_diagnoses               1.000000\n",
       "metformin                    metformin                      1.000000\n",
       "repaglinide                  repaglinide                    1.000000\n",
       "nateglinide                  nateglinide                    1.000000\n",
       "chlorpropamide               chlorpropamide                 1.000000\n",
       "glimepiride                  glimepiride                    1.000000\n",
       "acetohexamide                acetohexamide                  1.000000\n",
       "glipizide                    glipizide                      1.000000\n",
       "glyburide                    glyburide                      1.000000\n",
       "tolbutamide                  tolbutamide                    1.000000\n",
       "rosiglitazone                rosiglitazone                  1.000000\n",
       "race_Asian                   race_Asian                     1.000000\n",
       "acarbose                     acarbose                       1.000000\n",
       "miglitol                     miglitol                       1.000000\n",
       "troglitazone                 troglitazone                   1.000000\n",
       "tolazamide                   tolazamide                     1.000000\n",
       "insulin                      insulin                        1.000000\n",
       "glyburide-metformin          glyburide-metformin            1.000000\n",
       "glipizide-metformin          glipizide-metformin            1.000000\n",
       "metformin-pioglitazone       metformin-pioglitazone         1.000000\n",
       "change                       change                         1.000000\n",
       "diabetesMed                  diabetesMed                    1.000000\n",
       "readmitted                   readmitted                     1.000000\n",
       "numchange                    numchange                      1.000000\n",
       "nummed                       nummed                         1.000000\n",
       "race_AfricanAmerican         race_AfricanAmerican           1.000000\n",
       "max_glu_serum_0              max_glu_serum_0                1.000000\n",
       "age                          age                            1.000000\n",
       "race_AfricanAmerican         race_Caucasian                 0.869279\n",
       "race_Caucasian               race_AfricanAmerican           0.869279\n",
       "discharge_disposition_id_1   discharge_disposition_id_2     0.851532\n",
       "discharge_disposition_id_2   discharge_disposition_id_1     0.851532\n",
       "admission_source_id_7        admission_source_id_1          0.747709\n",
       "admission_source_id_1        admission_source_id_7          0.747709\n",
       "admission_type_id_3          admission_type_id_1            0.737127\n",
       "admission_type_id_1          admission_type_id_3            0.737127\n",
       "change                       nummed                         0.731419\n",
       "nummed                       change                         0.731419\n",
       "                             diabetesMed                    0.707245\n",
       "diabetesMed                  nummed                         0.707245\n",
       "admission_type_id_5          admission_source_id_15         0.653019\n",
       "admission_source_id_15       admission_type_id_5            0.653019\n",
       "numchange                    change                         0.609692\n",
       "change                       numchange                      0.609692\n",
       "admission_type_id_3          admission_source_id_1          0.601463\n",
       "admission_source_id_1        admission_type_id_3            0.601463\n",
       "admission_source_id_7        admission_type_id_1            0.592192\n",
       "admission_type_id_1          admission_source_id_7          0.592192\n",
       "insulin                      diabetesMed                    0.570956\n",
       "diabetesMed                  insulin                        0.570956\n",
       "nummed                       metformin                      0.549374\n",
       "metformin                    nummed                         0.549374\n",
       "admission_type_id_1          admission_type_id_5            0.533000\n",
       "admission_type_id_5          admission_type_id_1            0.533000\n",
       "diabetesMed                  change                         0.507260\n",
       "change                       diabetesMed                    0.507260\n",
       "insulin                      change                         0.502052\n",
       "change                       insulin                        0.502052\n",
       "nummed                       insulin                        0.499800\n",
       "insulin                      nummed                         0.499800\n",
       "admission_source_id_7        admission_type_id_3            0.494360\n",
       "admission_type_id_3          admission_source_id_7          0.494360\n",
       "admission_source_id_1        admission_type_id_1            0.477847\n",
       "admission_type_id_1          admission_source_id_1          0.477847\n",
       "num_medications              time_in_hospital               0.467889\n",
       "time_in_hospital             num_medications                0.467889\n",
       "numchange                    insulin                        0.427691\n",
       "insulin                      numchange                      0.427691\n",
       "num_medications              num_procedures                 0.400700\n",
       "num_procedures               num_medications                0.400700\n",
       "max_glu_serum_0              admission_source_id_15         0.399730\n",
       "admission_source_id_15       max_glu_serum_0                0.399730\n",
       "discharge_disposition_id_18  discharge_disposition_id_1     0.387526\n",
       "discharge_disposition_id_1   discharge_disposition_id_18    0.387526\n",
       "admission_type_id_5          max_glu_serum_0                0.352761\n",
       "max_glu_serum_0              admission_type_id_5            0.352761\n",
       "change                       metformin                      0.352464\n",
       "metformin                    change                         0.352464\n",
       "admission_type_id_5          max_glu_serum_1                0.348660\n",
       "max_glu_serum_1              admission_type_id_5            0.348660\n",
       "dtype: float64"
      ]
     },
     "execution_count": 37,
     "metadata": {},
     "output_type": "execute_result"
    }
   ],
   "source": [
    "# increase row display limit\n",
    "pd.options.display.max_rows = 400\n",
    "# calculate correlation matrix and store as absolute values\n",
    "c = diabetes.corr().abs()\n",
    "# unstake the table\n",
    "s = c.unstack()\n",
    "# sort the values in descending order\n",
    "so = s.sort_values(ascending=False)\n",
    "# display the most relevant part of the list\n",
    "so[38:120]"
   ]
  },
  {
   "cell_type": "code",
   "execution_count": 38,
   "metadata": {},
   "outputs": [],
   "source": [
    "diabetes.drop(['diabetesMed'], axis=1, inplace=True)"
   ]
  },
  {
   "cell_type": "code",
   "execution_count": 39,
   "metadata": {},
   "outputs": [],
   "source": [
    "interactionterms = [('num_medications','time_in_hospital'), \n",
    "                    ('num_medications','num_procedures'), \n",
    "                    ('time_in_hospital','num_lab_procedures'),\n",
    "                    ('num_medications','num_lab_procedures'), \n",
    "                    ('num_medications','number_diagnoses'),\n",
    "                    ('age','number_diagnoses'), \n",
    "                    ('change','num_medications'), \n",
    "                    ('number_diagnoses','time_in_hospital'), \n",
    "                    ('num_medications','numchange')]\n",
    " \n",
    "for inter in interactionterms:\n",
    "    name = inter[0] + '|' + inter[1]\n",
    "    diabetes[name] = diabetes[inter[0]] * diabetes[inter[1]]"
   ]
  },
  {
   "cell_type": "markdown",
   "metadata": {},
   "source": [
    "## Distributions"
   ]
  },
  {
   "cell_type": "code",
   "execution_count": 40,
   "metadata": {},
   "outputs": [
    {
     "data": {
      "text/plain": [
       "Text(0.5, 1.0, 'Time in Hospital')"
      ]
     },
     "execution_count": 40,
     "metadata": {},
     "output_type": "execute_result"
    },
    {
     "data": {
      "image/png": "[encoded data removed]",
      "text/plain": [
       "<Figure size 432x288 with 1 Axes>"
      ]
     },
     "metadata": {
      "needs_background": "light"
     },
     "output_type": "display_data"
    }
   ],
   "source": [
    "plt.hist(diabetes.time_in_hospital)\n",
    "plt.title('Time in Hospital')"
   ]
  },
  {
   "cell_type": "code",
   "execution_count": 41,
   "metadata": {},
   "outputs": [
    {
     "data": {
      "text/plain": [
       "Text(0.5, 1.0, 'Age')"
      ]
     },
     "execution_count": 41,
     "metadata": {},
     "output_type": "execute_result"
    },
    {
     "data": {
      "image/png": "[encoded data removed]",
      "text/plain": [
       "<Figure size 432x288 with 1 Axes>"
      ]
     },
     "metadata": {
      "needs_background": "light"
     },
     "output_type": "display_data"
    }
   ],
   "source": [
    "plt.hist(diabetes.age)\n",
    "plt.title('Age')"
   ]
  },
  {
   "cell_type": "code",
   "execution_count": 42,
   "metadata": {},
   "outputs": [
    {
     "data": {
      "text/plain": [
       "Text(0.5, 1.0, 'Number of Lab Procedures')"
      ]
     },
     "execution_count": 42,
     "metadata": {},
     "output_type": "execute_result"
    },
    {
     "data": {
      "image/png": "[encoded data removed]",
      "text/plain": [
       "<Figure size 432x288 with 1 Axes>"
      ]
     },
     "metadata": {
      "needs_background": "light"
     },
     "output_type": "display_data"
    }
   ],
   "source": [
    "plt.hist(diabetes.num_lab_procedures)\n",
    "plt.title('Number of Lab Procedures')"
   ]
  },
  {
   "cell_type": "code",
   "execution_count": 43,
   "metadata": {},
   "outputs": [
    {
     "data": {
      "text/plain": [
       "Text(0.5, 1.0, 'Number of Medications')"
      ]
     },
     "execution_count": 43,
     "metadata": {},
     "output_type": "execute_result"
    },
    {
     "data": {
      "image/png": "[encoded data removed]",
      "text/plain": [
       "<Figure size 432x288 with 1 Axes>"
      ]
     },
     "metadata": {
      "needs_background": "light"
     },
     "output_type": "display_data"
    }
   ],
   "source": [
    "plt.hist(diabetes.num_medications)\n",
    "plt.title('Number of Medications')"
   ]
  },
  {
   "cell_type": "code",
   "execution_count": 44,
   "metadata": {},
   "outputs": [
    {
     "data": {
      "text/plain": [
       "Text(0.5, 1.0, 'Number of Procedures')"
      ]
     },
     "execution_count": 44,
     "metadata": {},
     "output_type": "execute_result"
    },
    {
     "data": {
      "image/png": "[encoded data removed]",
      "text/plain": [
       "<Figure size 432x288 with 1 Axes>"
      ]
     },
     "metadata": {
      "needs_background": "light"
     },
     "output_type": "display_data"
    }
   ],
   "source": [
    "plt.hist(diabetes.num_procedures)\n",
    "plt.title('Number of Procedures')"
   ]
  },
  {
   "cell_type": "code",
   "execution_count": 45,
   "metadata": {},
   "outputs": [
    {
     "data": {
      "text/plain": [
       "Text(0.5, 1.0, 'Number of Use')"
      ]
     },
     "execution_count": 45,
     "metadata": {},
     "output_type": "execute_result"
    },
    {
     "data": {
      "image/png": "[encoded data removed]",
      "text/plain": [
       "<Figure size 432x288 with 1 Axes>"
      ]
     },
     "metadata": {
      "needs_background": "light"
     },
     "output_type": "display_data"
    }
   ],
   "source": [
    "plt.hist(diabetes.num_use)\n",
    "plt.title('Number of Use')"
   ]
  },
  {
   "cell_type": "code",
   "execution_count": 46,
   "metadata": {},
   "outputs": [
    {
     "data": {
      "text/plain": [
       "Text(0.5, 1.0, '')"
      ]
     },
     "execution_count": 46,
     "metadata": {},
     "output_type": "execute_result"
    },
    {
     "data": {
      "image/png": "[encoded data removed]",
      "text/plain": [
       "<Figure size 432x288 with 1 Axes>"
      ]
     },
     "metadata": {
      "needs_background": "light"
     },
     "output_type": "display_data"
    }
   ],
   "source": [
    "plt.hist(diabetes.number_diagnoses)\n",
    "plt.title('')"
   ]
  },
  {
   "cell_type": "code",
   "execution_count": 47,
   "metadata": {},
   "outputs": [
    {
     "data": {
      "text/plain": [
       "97.74043474655947"
      ]
     },
     "execution_count": 47,
     "metadata": {},
     "output_type": "execute_result"
    }
   ],
   "source": [
    "diabetes.num_use.kurtosis()"
   ]
  },
  {
   "cell_type": "markdown",
   "metadata": {},
   "source": [
    "## Split to train and test data"
   ]
  },
  {
   "cell_type": "markdown",
   "metadata": {},
   "source": [
    "### Extract the response variable (label)"
   ]
  },
  {
   "cell_type": "code",
   "execution_count": 48,
   "metadata": {},
   "outputs": [],
   "source": [
    "features = diabetes.drop('readmitted', axis=1)\n",
    "label = diabetes['readmitted']"
   ]
  },
  {
   "cell_type": "code",
   "execution_count": 49,
   "metadata": {},
   "outputs": [],
   "source": [
    "#To avoid information leakage from the future (test) data, the data is split to train and test data first.\n",
    "#before normalize and standardize the features\n",
    "from sklearn.model_selection import train_test_split\n",
    "X_train, X_test, y_train, y_test = train_test_split(features, label, test_size=0.33, random_state=42)"
   ]
  },
  {
   "cell_type": "markdown",
   "metadata": {},
   "source": [
    "## Normalize Distribution"
   ]
  },
  {
   "cell_type": "code",
   "execution_count": 50,
   "metadata": {},
   "outputs": [],
   "source": [
    "#As can be seen from the histograms; time_in_hospital, num_lab_procedures, num_procedures, num_medications, num_use distribution's are skewed\n",
    "#hence they will be normalized using lognormal."
   ]
  },
  {
   "cell_type": "code",
   "execution_count": 51,
   "metadata": {},
   "outputs": [
    {
     "name": "stderr",
     "output_type": "stream",
     "text": [
      "D:\\Programs\\Tools\\Anaconda3\\lib\\site-packages\\ipykernel_launcher.py:1: SettingWithCopyWarning: \n",
      "A value is trying to be set on a copy of a slice from a DataFrame.\n",
      "Try using .loc[row_indexer,col_indexer] = value instead\n",
      "\n",
      "See the caveats in the documentation: http://pandas.pydata.org/pandas-docs/stable/indexing.html#indexing-view-versus-copy\n",
      "  \"\"\"Entry point for launching an IPython kernel.\n",
      "D:\\Programs\\Tools\\Anaconda3\\lib\\site-packages\\ipykernel_launcher.py:2: SettingWithCopyWarning: \n",
      "A value is trying to be set on a copy of a slice from a DataFrame.\n",
      "Try using .loc[row_indexer,col_indexer] = value instead\n",
      "\n",
      "See the caveats in the documentation: http://pandas.pydata.org/pandas-docs/stable/indexing.html#indexing-view-versus-copy\n",
      "  \n",
      "D:\\Programs\\Tools\\Anaconda3\\lib\\site-packages\\ipykernel_launcher.py:3: SettingWithCopyWarning: \n",
      "A value is trying to be set on a copy of a slice from a DataFrame.\n",
      "Try using .loc[row_indexer,col_indexer] = value instead\n",
      "\n",
      "See the caveats in the documentation: http://pandas.pydata.org/pandas-docs/stable/indexing.html#indexing-view-versus-copy\n",
      "  This is separate from the ipykernel package so we can avoid doing imports until\n",
      "D:\\Programs\\Tools\\Anaconda3\\lib\\site-packages\\ipykernel_launcher.py:4: SettingWithCopyWarning: \n",
      "A value is trying to be set on a copy of a slice from a DataFrame.\n",
      "Try using .loc[row_indexer,col_indexer] = value instead\n",
      "\n",
      "See the caveats in the documentation: http://pandas.pydata.org/pandas-docs/stable/indexing.html#indexing-view-versus-copy\n",
      "  after removing the cwd from sys.path.\n",
      "D:\\Programs\\Tools\\Anaconda3\\lib\\site-packages\\ipykernel_launcher.py:5: SettingWithCopyWarning: \n",
      "A value is trying to be set on a copy of a slice from a DataFrame.\n",
      "Try using .loc[row_indexer,col_indexer] = value instead\n",
      "\n",
      "See the caveats in the documentation: http://pandas.pydata.org/pandas-docs/stable/indexing.html#indexing-view-versus-copy\n",
      "  \"\"\"\n"
     ]
    }
   ],
   "source": [
    "X_train['time_in_hospital'] = np.log1p(X_train.time_in_hospital)\n",
    "X_train['num_lab_procedures'] = np.log1p(X_train.num_lab_procedures)\n",
    "X_train['num_procedures'] = np.log1p(X_train.num_procedures)\n",
    "X_train['num_medications'] = np.log1p(X_train.num_medications)\n",
    "X_train['num_use'] = np.log1p(X_train.num_use)"
   ]
  },
  {
   "cell_type": "code",
   "execution_count": 52,
   "metadata": {},
   "outputs": [
    {
     "name": "stderr",
     "output_type": "stream",
     "text": [
      "D:\\Programs\\Tools\\Anaconda3\\lib\\site-packages\\pandas\\core\\frame.py:3391: SettingWithCopyWarning: \n",
      "A value is trying to be set on a copy of a slice from a DataFrame.\n",
      "Try using .loc[row_indexer,col_indexer] = value instead\n",
      "\n",
      "See the caveats in the documentation: http://pandas.pydata.org/pandas-docs/stable/indexing.html#indexing-view-versus-copy\n",
      "  self[k1] = value[k2]\n"
     ]
    }
   ],
   "source": [
    "numerics = ['time_in_hospital', 'num_lab_procedures', 'num_procedures', 'num_medications', 'num_use', 'age', 'number_diagnoses']\n",
    "X_train[numerics] = (X_train[numerics] - np.mean(X_train[numerics], axis=0)) / np.std(X_train[numerics], axis=0)"
   ]
  },
  {
   "cell_type": "code",
   "execution_count": 53,
   "metadata": {},
   "outputs": [],
   "source": [
    "#removing outliers using z-score\n",
    "X_train = X_train[(np.abs(stats.zscore(X_train[numerics])) < 3).all(axis=1)]"
   ]
  },
  {
   "cell_type": "code",
   "execution_count": 66,
   "metadata": {},
   "outputs": [],
   "source": [
    "y_train = y_train[y_train.index.isin(X_train.index)]"
   ]
  },
  {
   "cell_type": "code",
   "execution_count": 55,
   "metadata": {},
   "outputs": [
    {
     "data": {
      "text/plain": [
       "Index(['age', 'time_in_hospital', 'num_lab_procedures', 'num_procedures',\n",
       "       'num_medications', 'number_diagnoses', 'metformin', 'repaglinide',\n",
       "       'nateglinide', 'chlorpropamide', 'glimepiride', 'acetohexamide',\n",
       "       'glipizide', 'glyburide', 'tolbutamide', 'pioglitazone',\n",
       "       'rosiglitazone', 'acarbose', 'miglitol', 'troglitazone', 'tolazamide',\n",
       "       'insulin', 'glyburide-metformin', 'glipizide-metformin',\n",
       "       'glimepiride-pioglitazone', 'metformin-rosiglitazone',\n",
       "       'metformin-pioglitazone', 'change', 'numchange', 'nummed',\n",
       "       'race_AfricanAmerican', 'race_Asian', 'race_Caucasian', 'race_Hispanic',\n",
       "       'race_Other', 'gender_Female', 'gender_Male', 'level1_diag1_0',\n",
       "       'level1_diag1_1', 'level1_diag1_2', 'level1_diag1_3', 'level1_diag1_4',\n",
       "       'level1_diag1_5', 'level1_diag1_6', 'level1_diag1_7', 'level1_diag1_8',\n",
       "       'admission_type_id_1', 'admission_type_id_3', 'admission_type_id_4',\n",
       "       'admission_type_id_5', 'admission_source_id_1',\n",
       "       'admission_source_id_15', 'admission_source_id_4',\n",
       "       'admission_source_id_7', 'admission_source_id_9',\n",
       "       'discharge_disposition_id_1', 'discharge_disposition_id_18',\n",
       "       'discharge_disposition_id_2', 'discharge_disposition_id_7',\n",
       "       'discharge_disposition_id_8', 'discharge_disposition_id_9',\n",
       "       'A1Cresult_0', 'A1Cresult_1', 'max_glu_serum_0', 'max_glu_serum_1',\n",
       "       'num_use', 'num_medications|time_in_hospital',\n",
       "       'num_medications|num_procedures', 'time_in_hospital|num_lab_procedures',\n",
       "       'num_medications|num_lab_procedures',\n",
       "       'num_medications|number_diagnoses', 'age|number_diagnoses',\n",
       "       'change|num_medications', 'number_diagnoses|time_in_hospital',\n",
       "       'num_medications|numchange'],\n",
       "      dtype='object')"
      ]
     },
     "execution_count": 55,
     "metadata": {},
     "output_type": "execute_result"
    }
   ],
   "source": [
    "X_train.columns"
   ]
  },
  {
   "cell_type": "code",
   "execution_count": 56,
   "metadata": {},
   "outputs": [],
   "source": [
    "from imblearn.over_sampling import SMOTE\n",
    "from collections import Counter"
   ]
  },
  {
   "cell_type": "code",
   "execution_count": 57,
   "metadata": {},
   "outputs": [
    {
     "name": "stdout",
     "output_type": "stream",
     "text": [
      "Original dataset shape Counter({0: 41517, 1: 4079})\n"
     ]
    }
   ],
   "source": [
    "print('Original dataset shape {}'.format(Counter(y_train)))"
   ]
  },
  {
   "cell_type": "code",
   "execution_count": 67,
   "metadata": {},
   "outputs": [
    {
     "name": "stdout",
     "output_type": "stream",
     "text": [
      "New dataset shape Counter({0: 38105, 1: 38105})\n"
     ]
    }
   ],
   "source": [
    "sm = SMOTE(random_state=20)\n",
    "X_train_new, y_train_new = sm.fit_sample(X_train, y_train)\n",
    "print('New dataset shape {}'.format(Counter(y_train_new)))"
   ]
  },
  {
   "cell_type": "code",
   "execution_count": 70,
   "metadata": {},
   "outputs": [],
   "source": [
    "import xgboost as xgb\n",
    "from xgboost.sklearn import XGBClassifier\n",
    "from sklearn.model_selection import GridSearchCV"
   ]
  },
  {
   "cell_type": "code",
   "execution_count": 75,
   "metadata": {},
   "outputs": [],
   "source": [
    "xg_class = XGBClassifier(objective ='reg:logistic', scale_pos_weight=13, colsample_bytree = 0.8, learning_rate = 0.1,\n",
    "                max_depth = 3, n_estimators = 1000, min_child_weight = 3)\n",
    "xg_class.fit(X_train_new, y_train_new)\n",
    "preds = xg_class.predict(X_test)"
   ]
  },
  {
   "cell_type": "code",
   "execution_count": 78,
   "metadata": {},
   "outputs": [],
   "source": [
    "probs = xg_class.predict_proba(X_test)"
   ]
  },
  {
   "cell_type": "code",
   "execution_count": 72,
   "metadata": {},
   "outputs": [],
   "source": [
    "from sklearn.metrics import classification_report, roc_auc_score, roc_curve, auc, confusion_matrix, precision_recall_curve"
   ]
  },
  {
   "cell_type": "code",
   "execution_count": 77,
   "metadata": {},
   "outputs": [
    {
     "name": "stdout",
     "output_type": "stream",
     "text": [
      "              precision    recall  f1-score   support\n",
      "\n",
      "           0       0.90      0.24      0.38     20401\n",
      "           1       0.09      0.75      0.16      2057\n",
      "\n",
      "    accuracy                           0.28     22458\n",
      "   macro avg       0.50      0.49      0.27     22458\n",
      "weighted avg       0.83      0.28      0.36     22458\n",
      "\n",
      "[[ 4832 15569]\n",
      " [  521  1536]]\n"
     ]
    },
    {
     "name": "stderr",
     "output_type": "stream",
     "text": [
      "D:\\Programs\\Tools\\Anaconda3\\lib\\site-packages\\sklearn\\utils\\validation.py:71: FutureWarning: Pass labels=[0, 1] as keyword args. From version 0.25 passing these as positional arguments will result in an error\n",
      "  FutureWarning)\n"
     ]
    }
   ],
   "source": [
    "print(classification_report(y_test, preds, [0,1]))\n",
    "# print(roc_auc_score(y_test, preds))\n",
    "print(confusion_matrix(y_test, preds))\n",
    "# xg_precision, xg_recall, _ = precision_recall_curve(preds2, test_labels)"
   ]
  },
  {
   "cell_type": "code",
   "execution_count": 92,
   "metadata": {},
   "outputs": [
    {
     "data": {
      "image/png": "[encoded data removed]",
      "text/plain": [
       "<Figure size 432x288 with 1 Axes>"
      ]
     },
     "metadata": {
      "needs_background": "light"
     },
     "output_type": "display_data"
    }
   ],
   "source": [
    "# print(roc_auc_score(y_test, probs[:,1]))\n",
    "# y_test.to_numpy()\n",
    "# len(probs[:,1])\n",
    "fpr, tpr, threshold = roc_curve(y_test, probs[:,1])\n",
    "roc_auc = auc(fpr, tpr)\n",
    "\n",
    "import matplotlib.pyplot as plt\n",
    "plt.title('Receiver Operating Characteristic')\n",
    "plt.plot(fpr, tpr, 'b', label = 'AUC = %0.2f' % roc_auc)\n",
    "plt.legend(loc = 'lower right')\n",
    "plt.plot([0, 1], [0, 1],'r--')\n",
    "plt.xlim([0, 1])\n",
    "plt.ylim([0, 1])\n",
    "plt.ylabel('True Positive Rate')\n",
    "plt.xlabel('False Positive Rate')\n",
    "plt.show()"
   ]
  },
  {
   "cell_type": "markdown",
   "metadata": {},
   "source": [
    "The goal of the prediction is to predict correctly the number of patient that will be readmitted within 30 days. In this dataset, the class is imbalanced and looking at the business importance for hospitals is to be able to predict the the readmitted patient correctly. The result of the machine learning building using the sensitivity as metric is 0.75, which is quite good."
   ]
  },
  {
   "cell_type": "code",
   "execution_count": null,
   "metadata": {},
   "outputs": [],
   "source": []
  }
 ],
 "metadata": {
  "kernelspec": {
   "display_name": "Python 3",
   "language": "python",
   "name": "python3"
  },
  "language_info": {
   "codemirror_mode": {
    "name": "ipython",
    "version": 3
   },
   "file_extension": ".py",
   "mimetype": "text/x-python",
   "name": "python",
   "nbconvert_exporter": "python",
   "pygments_lexer": "ipython3",
   "version": "3.7.3"
  }
 },
 "nbformat": 4,
 "nbformat_minor": 4
}
